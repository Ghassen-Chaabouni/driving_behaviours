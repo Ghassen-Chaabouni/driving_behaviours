{
 "cells": [
  {
   "cell_type": "code",
   "execution_count": 1,
   "metadata": {},
   "outputs": [],
   "source": [
    "import os\n",
    "os.environ['CUDA_VISIBLE_DEVICES']=\"-1\""
   ]
  },
  {
   "cell_type": "code",
   "execution_count": 8,
   "metadata": {},
   "outputs": [],
   "source": [
    "import pixellib\n",
    "from pixellib.instance import instance_segmentation\n",
    "import cv2\n",
    "\n",
    "segment_video = instance_segmentation()\n",
    "segment_video.load_model(\"mask_rcnn_coco.h5\")\n",
    "\n",
    "capture = cv2.VideoCapture(\"accident1.mp4\")\n",
    "#capture = cv2.VideoCapture(\"accident2.mp4\")\n",
    "b=0\n",
    "while (capture.isOpened()):\n",
    "    ret, frame = capture.read()\n",
    "    if not ret:\n",
    "        break\n",
    "        \n",
    "    frame=frame[:frame.shape[0]-20,:,:]\n",
    "    result = segment_video.segmentFrame(frame, show_bboxes=True)\n",
    "    \n",
    "    for i in range(len(result[0]['rois'])):\n",
    "                \n",
    "        if result[0]['class_ids'][i] == 3 :   # car  \n",
    "            x1 = result[0]['rois'][i][1]\n",
    "            y1 = result[0]['rois'][i][0]\n",
    "            x2 = result[0]['rois'][i][3]\n",
    "            y2 = result[0]['rois'][i][2]\n",
    "\n",
    "            mid_x = (x1/frame.shape[0]+x2/frame.shape[0])/2\n",
    "            mid_y = (y1/frame.shape[1]+y2/frame.shape[1])/2\n",
    "\n",
    "            apx_distance = round(((1 - (y2/frame.shape[1] - y1/frame.shape[1]))**3), 1)\n",
    "\n",
    "            #cv2.putText(frame, '{}'.format(apx_distance), (int((x1+x2)/2),int((y1+y2)/2)), cv2.FONT_HERSHEY_SIMPLEX, 0.7, (255,255,255), 2)\n",
    "\n",
    "            if apx_distance <=0.6:\n",
    "                if mid_y > 0.2 :\n",
    "                    cv2.putText(frame, 'danger', (int((x1+x2)/2),int((y1+y2)/2)), cv2.FONT_HERSHEY_SIMPLEX, 1.0, (0,0,255), 3)                    \n",
    "                    b=1\n",
    "\n",
    "    if(b):\n",
    "        with open(\"../distance_between_cars_output.txt\", \"w\") as file: \n",
    "            file.write(\"danger\")\n",
    "            b=0\n",
    "    else:\n",
    "        with open(\"../distance_between_cars_output.txt\", \"w\") as file: \n",
    "                        file.write(\"safe\")\n",
    "                \n",
    "    cv2.imshow(\"frame\", frame)\n",
    "    \n",
    "    if cv2.waitKey(25) & 0xff == ord('q'):\n",
    "          break\n",
    "    \n",
    "cv2.destroyAllWindows()\n",
    "capture.release()"
   ]
  }
 ],
 "metadata": {
  "kernelspec": {
   "display_name": "Python 3",
   "language": "python",
   "name": "python3"
  },
  "language_info": {
   "codemirror_mode": {
    "name": "ipython",
    "version": 3
   },
   "file_extension": ".py",
   "mimetype": "text/x-python",
   "name": "python",
   "nbconvert_exporter": "python",
   "pygments_lexer": "ipython3",
   "version": "3.7.7"
  }
 },
 "nbformat": 4,
 "nbformat_minor": 4
}
